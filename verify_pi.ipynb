{
 "cells": [
  {
   "cell_type": "markdown",
   "metadata": {},
   "source": [
    "# Goal"
   ]
  },
  {
   "cell_type": "markdown",
   "metadata": {},
   "source": [
    "This notebook..."
   ]
  },
  {
   "cell_type": "code",
   "execution_count": 1,
   "metadata": {},
   "outputs": [],
   "source": [
    "import numpy as np\n",
    "import xarray as xr\n",
    "import matplotlib\n",
    "import matplotlib.pyplot as plt\n",
    "import time\n",
    "# load PI calculation module\n",
    "from pi import pi"
   ]
  },
  {
   "cell_type": "code",
   "execution_count": 2,
   "metadata": {},
   "outputs": [],
   "source": [
    "# change default figure font settings\n",
    "font = {'family' : 'sans-serif',\n",
    "        'weight' : 1,\n",
    "        'size'   : 16}\n",
    "\n",
    "matplotlib.rc('font', **font)"
   ]
  },
  {
   "cell_type": "markdown",
   "metadata": {},
   "source": [
    "# Load Data"
   ]
  },
  {
   "cell_type": "code",
   "execution_count": 3,
   "metadata": {},
   "outputs": [
    {
     "data": {
      "text/html": [
       "<pre>&lt;xarray.Dataset&gt;\n",
       "Dimensions:  (lat: 73, lon: 144, month: 12, p: 31)\n",
       "Coordinates:\n",
       "  * p        (p) float64 1e+03 975.0 950.0 925.0 900.0 ... 40.0 30.0 20.0 10.0\n",
       "  * lat      (lat) float64 90.0 87.5 85.0 82.5 80.0 ... -82.5 -85.0 -87.5 -90.0\n",
       "  * lon      (lon) float64 -180.0 -177.5 -175.0 -172.5 ... 172.5 175.0 177.5\n",
       "  * month    (month) float64 1.0 2.0 3.0 4.0 5.0 6.0 7.0 8.0 9.0 10.0 11.0 12.0\n",
       "Data variables:\n",
       "    lsm      (lat, lon) float64 ...\n",
       "    sst      (month, lat, lon) float64 ...\n",
       "    msl      (month, lat, lon) float64 ...\n",
       "    t        (month, p, lat, lon) float64 ...\n",
       "    q        (month, p, lat, lon) float64 ...\n",
       "    Vmax     (month, lat, lon) float64 ...\n",
       "    To       (month, lat, lon) float64 ...\n",
       "    Pmin     (month, lat, lon) float64 ...\n",
       "    LNB      (month, lat, lon) float64 ...\n",
       "    PI_flag  (month, lat, lon) float64 ...</pre>"
      ],
      "text/plain": [
       "<xarray.Dataset>\n",
       "Dimensions:  (lat: 73, lon: 144, month: 12, p: 31)\n",
       "Coordinates:\n",
       "  * p        (p) float64 1e+03 975.0 950.0 925.0 900.0 ... 40.0 30.0 20.0 10.0\n",
       "  * lat      (lat) float64 90.0 87.5 85.0 82.5 80.0 ... -82.5 -85.0 -87.5 -90.0\n",
       "  * lon      (lon) float64 -180.0 -177.5 -175.0 -172.5 ... 172.5 175.0 177.5\n",
       "  * month    (month) float64 1.0 2.0 3.0 4.0 5.0 6.0 7.0 8.0 9.0 10.0 11.0 12.0\n",
       "Data variables:\n",
       "    lsm      (lat, lon) float64 ...\n",
       "    sst      (month, lat, lon) float64 ...\n",
       "    msl      (month, lat, lon) float64 ...\n",
       "    t        (month, p, lat, lon) float64 ...\n",
       "    q        (month, p, lat, lon) float64 ...\n",
       "    Vmax     (month, lat, lon) float64 ...\n",
       "    To       (month, lat, lon) float64 ...\n",
       "    Pmin     (month, lat, lon) float64 ...\n",
       "    LNB      (month, lat, lon) float64 ...\n",
       "    PI_flag  (month, lat, lon) float64 ..."
      ]
     },
     "execution_count": 3,
     "metadata": {},
     "output_type": "execute_result"
    }
   ],
   "source": [
    "# data location\n",
    "dat_loc='./data/test_data.nc'\n",
    "# load and view netcdf file\n",
    "ds = xr.open_dataset(dat_loc)\n",
    "ds"
   ]
  },
  {
   "cell_type": "code",
   "execution_count": 4,
   "metadata": {},
   "outputs": [],
   "source": [
    "# store the data in numpy arrays\n",
    "SST,MSL,Ta,R,P=np.asarray(ds.sst),np.asarray(ds.msl),np.asarray(ds.t),np.asarray(ds.q),np.asarray(ds.p)"
   ]
  },
  {
   "cell_type": "markdown",
   "metadata": {},
   "source": [
    "# Calculate PI with Python module"
   ]
  },
  {
   "cell_type": "code",
   "execution_count": 5,
   "metadata": {},
   "outputs": [],
   "source": [
    "# find the sizes of the the arrays\n",
    "nlat,nlon=ds.sst.sizes['lat'],ds.sst.sizes['lon']\n",
    "# create arrays to store data\n",
    "VMAXp,PMINp,TOp,LNBp=np.zeros((12,nlat,nlon),dtype='float64'),np.zeros((12,nlat,nlon),dtype='float64'), \\\n",
    "    np.zeros((12,nlat,nlon),dtype='float64'),np.zeros((12,nlat,nlon),dtype='float64')\n",
    "IFLp=np.zeros((12,nlat,nlon),dtype='int64')\n",
    "# fill with missing data\n",
    "VMAXp[:],PMINp[:],TOp[:],LNBp[:],IFLp[:]=np.nan,np.nan,np.nan,np.nan,np.nan\n",
    "# (VMAX,PMIN,IFL,TO,LNB)=pi(sst1,msl1,p1,t1,q1,CKCD=0.9,ascent_flag=0,diss_flag=1,V_reduc=0.8)"
   ]
  },
  {
   "cell_type": "code",
   "execution_count": null,
   "metadata": {
    "scrolled": true
   },
   "outputs": [],
   "source": [
    "# time the loop\n",
    "start = time.time()\n",
    "\n",
    "# loop over the data grid and calculate PI\n",
    "for m in range(12):\n",
    "    for x in range(nlon):\n",
    "        for y in range(nlat):\n",
    "            #print(x,y,m)\n",
    "            if (SST[m,y,x]>0.0):\n",
    "                (VMAXp[m,y,x],PMINp[m,y,x],IFLp[m,y,x],TOp[m,y,x],LNBp[m,y,x]) = pi( \\\n",
    "                    SST[m,y,x],MSL[m,y,x],P,Ta[m,:,y,x],R[m,:,y,x],\\\n",
    "                    CKCD=0.9,ascent_flag=0,diss_flag=1,V_reduc=0.8,miss_handle=1)\n",
    "                #print(VMAXp[m,y,x])\n",
    "            \n",
    "    \n",
    "\n",
    "end = time.time()\n",
    "print(end - start)"
   ]
  },
  {
   "cell_type": "markdown",
   "metadata": {},
   "source": [
    "# Compare Python output to MATLAB output"
   ]
  },
  {
   "cell_type": "markdown",
   "metadata": {},
   "source": [
    "To validate the output of the pi.py module, we compare it with the MATLAB calculated Potential Intensity code output (provided in the test_data.nc file). We explore the absolute differences, correlations, and the temporal/spatial structures."
   ]
  },
  {
   "cell_type": "markdown",
   "metadata": {},
   "source": [
    "## Potential Intensity Maximum Wind (VMAX)"
   ]
  },
  {
   "cell_type": "code",
   "execution_count": null,
   "metadata": {},
   "outputs": [],
   "source": [
    "# calculate the difference between Python and MATLAB\n",
    "diff_VMAX=VMAXp-ds.Vmax"
   ]
  },
  {
   "cell_type": "code",
   "execution_count": null,
   "metadata": {
    "scrolled": true
   },
   "outputs": [],
   "source": [
    "print('VMAX: The maximum absolute difference across all points is '+str(float(abs(diff_VMAX).max())))"
   ]
  },
  {
   "cell_type": "markdown",
   "metadata": {},
   "source": [
    "#### Spatial Structure"
   ]
  },
  {
   "cell_type": "code",
   "execution_count": null,
   "metadata": {},
   "outputs": [],
   "source": [
    "# plot both side by side in September\n",
    "clevels=np.arange(0,140,10)\n",
    "plt.figure(figsize=(22,6))\n",
    "plt.subplot(1,2,1)\n",
    "plt.contourf(ds.lon,ds.lat,VMAXp[8,:,:],clevels)\n",
    "plt.xlabel(ds.lon.standard_name)\n",
    "plt.ylabel(ds.lat.standard_name)\n",
    "plt.title('September PI (Python, m/s)')\n",
    "plt.colorbar()\n",
    "\n",
    "plt.subplot(1,2,2)\n",
    "plt.contourf(ds.lon,ds.lat,ds.Vmax.isel(month=8),clevels)\n",
    "plt.xlabel(ds.lon.standard_name)\n",
    "plt.ylabel(ds.lat.standard_name)\n",
    "plt.title('September PI (MATLAB, m/s)')\n",
    "plt.colorbar()\n",
    "plt.show()"
   ]
  },
  {
   "cell_type": "code",
   "execution_count": null,
   "metadata": {},
   "outputs": [],
   "source": [
    "plt.figure(figsize=(10,6))\n",
    "plt.contourf(ds.lon,ds.lat,diff_VMAX.isel(month=8))\n",
    "plt.xlabel(ds.lon.standard_name)\n",
    "plt.ylabel(ds.lat.standard_name)\n",
    "plt.title('September PI Difference (Python$-$MATLAB, m/s)')\n",
    "plt.colorbar()\n",
    "plt.show()"
   ]
  },
  {
   "cell_type": "markdown",
   "metadata": {},
   "source": [
    "#### Temporal Structure"
   ]
  },
  {
   "cell_type": "code",
   "execution_count": null,
   "metadata": {},
   "outputs": [],
   "source": [
    "plt.figure(figsize=(10,6))\n",
    "plt.plot(np.arange(12)+1,diff_VMAX.mean(dim=['lat','lon']),color='k',lw=3)\n",
    "plt.xlabel(ds.month.standard_name)\n",
    "plt.ylabel('PI Difference (m/s)')\n",
    "plt.title('Monthly Average PI Difference (Python$-$MATLAB, m/s)')\n",
    "plt.grid()\n",
    "plt.xlim([1,12])\n",
    "plt.show()"
   ]
  },
  {
   "cell_type": "markdown",
   "metadata": {},
   "source": [
    "#### Correlation Structure"
   ]
  },
  {
   "cell_type": "code",
   "execution_count": null,
   "metadata": {},
   "outputs": [],
   "source": [
    "x1=VMAXp[:].flatten()[~np.isnan(VMAXp[:].flatten())]\n",
    "x2=np.asarray(ds.Vmax)[:].flatten()[~np.isnan(VMAXp[:].flatten())]\n",
    "R=np.ma.corrcoef(x1,x2)\n",
    "\n",
    "plt.figure(figsize=(8,8))\n",
    "plt.plot([-5,130],[-5,130],color='k')\n",
    "plt.scatter(VMAXp,ds.Vmax)\n",
    "plt.xlabel('Python PI (m/s)')\n",
    "plt.ylabel('MATLAB PI (m/s)')\n",
    "plt.title('Python and MATLAB PI Calculations, R^2='+str(R[0,1]**2))\n",
    "plt.xlim([-5,130])\n",
    "plt.ylim([-5,130])\n",
    "plt.grid()\n",
    "plt.show()"
   ]
  },
  {
   "cell_type": "markdown",
   "metadata": {},
   "source": [
    "## Potential Intensity Minimum Pressure (PMIN)"
   ]
  },
  {
   "cell_type": "code",
   "execution_count": null,
   "metadata": {},
   "outputs": [],
   "source": [
    "# calculate the difference between Python and MATLAB\n",
    "diff_PMIN=PMINp-ds.Pmin"
   ]
  },
  {
   "cell_type": "code",
   "execution_count": null,
   "metadata": {},
   "outputs": [],
   "source": [
    "print('PMIN: The maximum absolute difference across all points is '+str(float(abs(diff_PMIN).max())))"
   ]
  },
  {
   "cell_type": "markdown",
   "metadata": {},
   "source": [
    "#### Spatial Structure"
   ]
  },
  {
   "cell_type": "code",
   "execution_count": null,
   "metadata": {},
   "outputs": [],
   "source": [
    "# plot both side by side in September\n",
    "clevels=np.arange(780,1060,20)\n",
    "plt.figure(figsize=(22,6))\n",
    "plt.subplot(1,2,1)\n",
    "plt.contourf(ds.lon,ds.lat,PMINp[8,:,:],clevels)\n",
    "plt.xlabel(ds.lon.standard_name)\n",
    "plt.ylabel(ds.lat.standard_name)\n",
    "plt.title('September $P_{min}$ (Python, hPa)')\n",
    "plt.colorbar()\n",
    "\n",
    "plt.subplot(1,2,2)\n",
    "plt.contourf(ds.lon,ds.lat,ds.Pmin.isel(month=8),clevels)\n",
    "plt.xlabel(ds.lon.standard_name)\n",
    "plt.ylabel(ds.lat.standard_name)\n",
    "plt.title('September $P_{min}$ (MATLAB, hPa)')\n",
    "plt.colorbar()\n",
    "plt.show()"
   ]
  },
  {
   "cell_type": "code",
   "execution_count": null,
   "metadata": {},
   "outputs": [],
   "source": [
    "plt.figure(figsize=(10,6))\n",
    "plt.contourf(ds.lon,ds.lat,diff_PMIN.isel(month=8))\n",
    "plt.xlabel(ds.lon.standard_name)\n",
    "plt.ylabel(ds.lat.standard_name)\n",
    "plt.title('September $P_{min}$ Difference (Python$-$MATLAB, hPa)')\n",
    "plt.colorbar()\n",
    "plt.show()"
   ]
  },
  {
   "cell_type": "markdown",
   "metadata": {},
   "source": [
    "#### Temporal Structure"
   ]
  },
  {
   "cell_type": "code",
   "execution_count": null,
   "metadata": {},
   "outputs": [],
   "source": [
    "plt.figure(figsize=(10,6))\n",
    "plt.plot(np.arange(12)+1,diff_PMIN.mean(dim=['lat','lon']),color='k',lw=3)\n",
    "plt.xlabel(ds.month.standard_name)\n",
    "plt.ylabel('$P_{min}$ Difference (hPa)')\n",
    "plt.title('Monthly Average $P_{min}$ Difference (Python$-$MATLAB, hPa)')\n",
    "plt.grid()\n",
    "plt.xlim([1,12])\n",
    "plt.show()"
   ]
  },
  {
   "cell_type": "markdown",
   "metadata": {},
   "source": [
    "#### Correlation Structure"
   ]
  },
  {
   "cell_type": "code",
   "execution_count": null,
   "metadata": {},
   "outputs": [],
   "source": [
    "x1=PMINp[:].flatten()[~np.isnan(PMINp[:].flatten())]\n",
    "x2=np.asarray(ds.Pmin)[:].flatten()[~np.isnan(PMINp[:].flatten())]\n",
    "R=np.ma.corrcoef(x1,x2)\n",
    "\n",
    "plt.figure(figsize=(8,8))\n",
    "plt.plot([760,1050],[760,1050],color='k')\n",
    "plt.scatter(PMINp,ds.Pmin)\n",
    "plt.xlabel('Python $P_{min}$ (hPa)')\n",
    "plt.ylabel('MATLAB $P_{min}$ (hPa)')\n",
    "plt.title('Python and MATLAB $P_{min}$ Calculations, R^2='+str(R[0,1]**2))\n",
    "plt.xlim([760,1050])\n",
    "plt.ylim([760,1050])\n",
    "plt.grid()\n",
    "plt.show()"
   ]
  },
  {
   "cell_type": "markdown",
   "metadata": {},
   "source": [
    "## Outflow Temperature"
   ]
  },
  {
   "cell_type": "code",
   "execution_count": null,
   "metadata": {},
   "outputs": [],
   "source": [
    "# calculate the difference between Python and MATLAB\n",
    "diff_To=TOp-ds.To"
   ]
  },
  {
   "cell_type": "code",
   "execution_count": null,
   "metadata": {},
   "outputs": [],
   "source": [
    "print('T0: The maximum absolute difference across all points is '+str(float(abs(diff_To).max())))"
   ]
  },
  {
   "cell_type": "markdown",
   "metadata": {},
   "source": [
    "#### Spatial Structure"
   ]
  },
  {
   "cell_type": "code",
   "execution_count": null,
   "metadata": {},
   "outputs": [],
   "source": [
    "# plot both side by side in September\n",
    "clevels=np.arange(180,290,10)\n",
    "plt.figure(figsize=(22,6))\n",
    "plt.subplot(1,2,1)\n",
    "plt.contourf(ds.lon,ds.lat,TOp[8,:,:],clevels)\n",
    "plt.xlabel(ds.lon.standard_name)\n",
    "plt.ylabel(ds.lat.standard_name)\n",
    "plt.title('September $T_{0}$ (Python, K)')\n",
    "plt.colorbar()\n",
    "\n",
    "plt.subplot(1,2,2)\n",
    "plt.contourf(ds.lon,ds.lat,ds.To.isel(month=8),clevels)\n",
    "plt.xlabel(ds.lon.standard_name)\n",
    "plt.ylabel(ds.lat.standard_name)\n",
    "plt.title('September $T_{0}$ (MATLAB, K)')\n",
    "plt.colorbar()\n",
    "plt.show()"
   ]
  },
  {
   "cell_type": "code",
   "execution_count": null,
   "metadata": {},
   "outputs": [],
   "source": [
    "plt.figure(figsize=(10,6))\n",
    "plt.contourf(ds.lon,ds.lat,diff_To.isel(month=8))\n",
    "plt.xlabel(ds.lon.standard_name)\n",
    "plt.ylabel(ds.lat.standard_name)\n",
    "plt.title('September $T_{0}$ Difference (Python$-$MATLAB, K)')\n",
    "plt.colorbar()\n",
    "plt.show()"
   ]
  },
  {
   "cell_type": "markdown",
   "metadata": {},
   "source": [
    "#### Temporal Structure"
   ]
  },
  {
   "cell_type": "code",
   "execution_count": null,
   "metadata": {},
   "outputs": [],
   "source": [
    "plt.figure(figsize=(10,6))\n",
    "plt.plot(np.arange(12)+1,diff_To.mean(dim=['lat','lon']),color='k',lw=3)\n",
    "plt.xlabel(ds.month.standard_name)\n",
    "plt.ylabel('$T_{0}$ Difference (K)')\n",
    "plt.title('Monthly Average $T_{0}$ Difference (Python$-$MATLAB, K)')\n",
    "plt.grid()\n",
    "plt.xlim([1,12])\n",
    "plt.show()"
   ]
  },
  {
   "cell_type": "markdown",
   "metadata": {},
   "source": [
    "#### Correlation Structure"
   ]
  },
  {
   "cell_type": "code",
   "execution_count": null,
   "metadata": {},
   "outputs": [],
   "source": [
    "x1=TOp[:].flatten()[~np.isnan(TOp[:].flatten())]\n",
    "x2=np.asarray(ds.To)[:].flatten()[~np.isnan(TOp[:].flatten())]\n",
    "R=np.ma.corrcoef(x1,x2)\n",
    "\n",
    "plt.figure(figsize=(8,8))\n",
    "plt.plot([180,300],[180,300],color='k')\n",
    "plt.scatter(TOp,ds.To)\n",
    "plt.xlabel('Python $T_{0}$ (K)')\n",
    "plt.ylabel('MATLAB $T_{0}$ (K)')\n",
    "plt.title('Python and MATLAB $T_{0}$ Calculations, R^2='+str(R[0,1]**2))\n",
    "plt.xlim([180,300])\n",
    "plt.ylim([180,300])\n",
    "plt.grid()\n",
    "plt.show()"
   ]
  },
  {
   "cell_type": "markdown",
   "metadata": {},
   "source": [
    "## Level of Neutral Buoyancy"
   ]
  },
  {
   "cell_type": "code",
   "execution_count": null,
   "metadata": {},
   "outputs": [],
   "source": [
    "# calculate the difference between Python and MATLAB\n",
    "diff_LNB=LNBp-ds.LNB"
   ]
  },
  {
   "cell_type": "code",
   "execution_count": null,
   "metadata": {},
   "outputs": [],
   "source": [
    "print('LNB: The maximum absolute difference across all points is '+str(float(abs(diff_LNB).max())))"
   ]
  },
  {
   "cell_type": "markdown",
   "metadata": {},
   "source": [
    "#### Spatial Structure"
   ]
  },
  {
   "cell_type": "code",
   "execution_count": null,
   "metadata": {},
   "outputs": [],
   "source": [
    "# plot both side by side in September\n",
    "clevels=np.arange(60,1000,100)\n",
    "plt.figure(figsize=(22,6))\n",
    "plt.subplot(1,2,1)\n",
    "plt.contourf(ds.lon,ds.lat,LNBp[8,:,:],clevels)\n",
    "plt.xlabel(ds.lon.standard_name)\n",
    "plt.ylabel(ds.lat.standard_name)\n",
    "plt.title('September LNB (Python, hPa)')\n",
    "plt.colorbar()\n",
    "\n",
    "plt.subplot(1,2,2)\n",
    "plt.contourf(ds.lon,ds.lat,ds.LNB.isel(month=8),clevels)\n",
    "plt.xlabel(ds.lon.standard_name)\n",
    "plt.ylabel(ds.lat.standard_name)\n",
    "plt.title('September LNB (MATLAB, hPa)')\n",
    "plt.colorbar()\n",
    "plt.show()"
   ]
  },
  {
   "cell_type": "code",
   "execution_count": null,
   "metadata": {},
   "outputs": [],
   "source": [
    "plt.figure(figsize=(10,6))\n",
    "plt.contourf(ds.lon,ds.lat,diff_LNB.mean(['month']))\n",
    "plt.xlabel(ds.lon.standard_name)\n",
    "plt.ylabel(ds.lat.standard_name)\n",
    "plt.title('Annual Average LNB Difference (Python$-$MATLAB, hPa)')\n",
    "plt.colorbar()\n",
    "plt.show()"
   ]
  },
  {
   "cell_type": "markdown",
   "metadata": {},
   "source": [
    "#### Temporal Structure"
   ]
  },
  {
   "cell_type": "code",
   "execution_count": null,
   "metadata": {},
   "outputs": [],
   "source": [
    "plt.figure(figsize=(10,6))\n",
    "plt.plot(np.arange(12)+1,diff_LNB.mean(dim=['lat','lon']),color='k',lw=3)\n",
    "plt.xlabel(ds.month.standard_name)\n",
    "plt.ylabel('LNB Difference (hPa)')\n",
    "plt.title('Monthly Average LNB Difference (Python$-$MATLAB, hPa)')\n",
    "plt.grid()\n",
    "plt.xlim([1,12])\n",
    "plt.show()"
   ]
  },
  {
   "cell_type": "markdown",
   "metadata": {},
   "source": [
    "#### Correlation Structure"
   ]
  },
  {
   "cell_type": "code",
   "execution_count": null,
   "metadata": {},
   "outputs": [],
   "source": [
    "x1=LNBp[:].flatten()[~np.isnan(LNBp[:].flatten())]\n",
    "x2=np.asarray(ds.LNB)[:].flatten()[~np.isnan(LNBp[:].flatten())]\n",
    "R=np.ma.corrcoef(x1,x2)\n",
    "\n",
    "plt.figure(figsize=(8,8))\n",
    "plt.plot([-10,1010],[-10,1010],color='k')\n",
    "plt.scatter(LNBp,ds.LNB)\n",
    "plt.xlabel('Python LNB (hPa)')\n",
    "plt.ylabel('MATLAB LNB (hPa)')\n",
    "plt.title('Python and MATLAB LNB Calculations, R^2='+str(R[0,1]**2))\n",
    "plt.xlim([-10,1010])\n",
    "plt.ylim([-10,1010])\n",
    "plt.grid()\n",
    "plt.show()"
   ]
  },
  {
   "cell_type": "markdown",
   "metadata": {},
   "source": [
    "We note that while there are *some* differences between the LNB calculations, they are all at higher latitudes, where the Python script tends to have LNB=1000 when the MATLAB script assigned 0."
   ]
  },
  {
   "cell_type": "code",
   "execution_count": null,
   "metadata": {},
   "outputs": [],
   "source": [
    "NEED TO NOTE MISSING VALUES CHECKS!"
   ]
  },
  {
   "cell_type": "code",
   "execution_count": null,
   "metadata": {},
   "outputs": [],
   "source": [
    "STOP"
   ]
  }
 ],
 "metadata": {
  "kernelspec": {
   "display_name": "Python 3",
   "language": "python",
   "name": "python3"
  },
  "language_info": {
   "codemirror_mode": {
    "name": "ipython",
    "version": 3
   },
   "file_extension": ".py",
   "mimetype": "text/x-python",
   "name": "python",
   "nbconvert_exporter": "python",
   "pygments_lexer": "ipython3",
   "version": "3.7.6"
  }
 },
 "nbformat": 4,
 "nbformat_minor": 2
}
