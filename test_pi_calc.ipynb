{
 "cells": [
  {
   "cell_type": "markdown",
   "metadata": {},
   "source": [
    "# Goal"
   ]
  },
  {
   "cell_type": "markdown",
   "metadata": {},
   "source": [
    "This notebook tests the PI code to ensure it runs smoothly and provides reasonable output. A full QC of the code is provided in \"verify_pi\"."
   ]
  },
  {
   "cell_type": "markdown",
   "metadata": {},
   "source": [
    "# Setup"
   ]
  },
  {
   "cell_type": "code",
   "execution_count": 1,
   "metadata": {},
   "outputs": [],
   "source": [
    "import numpy as np\n",
    "import xarray as xr\n",
    "import matplotlib\n",
    "import matplotlib.pyplot as plt\n",
    "# load PI calculation module\n",
    "from pi import cape"
   ]
  },
  {
   "cell_type": "code",
   "execution_count": 2,
   "metadata": {},
   "outputs": [],
   "source": [
    "# change default figure font settings\n",
    "font = {'family' : 'sans-serif',\n",
    "        'weight' : 1,\n",
    "        'size'   : 16}\n",
    "\n",
    "matplotlib.rc('font', **font)"
   ]
  },
  {
   "cell_type": "markdown",
   "metadata": {},
   "source": [
    "# Load Data and Code"
   ]
  },
  {
   "cell_type": "code",
   "execution_count": 3,
   "metadata": {},
   "outputs": [],
   "source": [
    "# data location\n",
    "dat_loc='./data/test_data.nc'"
   ]
  },
  {
   "cell_type": "code",
   "execution_count": 4,
   "metadata": {},
   "outputs": [
    {
     "data": {
      "text/plain": [
       "<xarray.Dataset>\n",
       "Dimensions:  (lat: 73, lon: 144, month: 12, p: 31)\n",
       "Coordinates:\n",
       "  * p        (p) float64 1e+03 975.0 950.0 925.0 900.0 875.0 850.0 825.0 ...\n",
       "  * lat      (lat) float64 90.0 87.5 85.0 82.5 80.0 77.5 75.0 72.5 70.0 67.5 ...\n",
       "  * lon      (lon) float64 -180.0 -177.5 -175.0 -172.5 -170.0 -167.5 -165.0 ...\n",
       "  * month    (month) float64 1.0 2.0 3.0 4.0 5.0 6.0 7.0 8.0 9.0 10.0 11.0 12.0\n",
       "Data variables:\n",
       "    lsm      (lat, lon) float64 ...\n",
       "    sst      (month, lat, lon) float64 ...\n",
       "    msl      (month, lat, lon) float64 ...\n",
       "    t        (month, p, lat, lon) float64 ...\n",
       "    q        (month, p, lat, lon) float64 ...\n",
       "    Vmax     (month, lat, lon) float64 ...\n",
       "    To       (month, lat, lon) float64 ...\n",
       "    Pmin     (month, lat, lon) float64 ...\n",
       "    LNB      (month, lat, lon) float64 ...\n",
       "    PI_flag  (month, lat, lon) float64 ..."
      ]
     },
     "execution_count": 4,
     "metadata": {},
     "output_type": "execute_result"
    }
   ],
   "source": [
    "# load and view netcdf file\n",
    "ds = xr.open_dataset(dat_loc)\n",
    "ds"
   ]
  },
  {
   "cell_type": "markdown",
   "metadata": {},
   "source": [
    "### Check Data Load"
   ]
  },
  {
   "cell_type": "code",
   "execution_count": 5,
   "metadata": {},
   "outputs": [],
   "source": [
    "# # view the land-sea mask as a sanity check of our data loading\n",
    "# plt.figure(figsize=(8,5))\n",
    "# plt.contour(ds.lon,ds.lat,ds.lsm,[0.1,],colors='k',linewidths=2.5)\n",
    "# plt.xlabel(ds.lon.standard_name)\n",
    "# plt.ylabel(ds.lat.standard_name)\n",
    "# plt.title(ds.lsm.standard_name)\n",
    "# plt.show()"
   ]
  },
  {
   "cell_type": "markdown",
   "metadata": {},
   "source": [
    "# Test CAPE calculation"
   ]
  },
  {
   "cell_type": "markdown",
   "metadata": {},
   "source": [
    "### Grab one profile from the NA and plot"
   ]
  },
  {
   "cell_type": "code",
   "execution_count": 6,
   "metadata": {},
   "outputs": [],
   "source": [
    "# choose a location and month\n",
    "# want_lat=10\n",
    "# want_lon=-180\n",
    "# want_mon=9\n",
    "# # find the index of the profile\n",
    "# xi=np.where(ds.lon==want_lon)[0][0]\n",
    "# yi=np.where(ds.lat==want_lat)[0][0]\n",
    "# moni=int(want_mon)\n",
    "xi,yi,moni=0,37,0\n",
    "# get the profile and input values\n",
    "p1=np.asarray(ds.p)\n",
    "t1=np.asarray(ds.t.isel(lat=yi,lon=xi,month=moni))\n",
    "q1=np.asarray(ds.q.isel(lat=yi,lon=xi,month=moni))\n",
    "sst1=np.asarray(ds.sst.isel(lat=yi,lon=xi,month=moni))\n",
    "msl1=np.asarray(ds.msl.isel(lat=yi,lon=xi,month=moni))\n",
    "# get the output values\n",
    "to1=np.asarray(ds.To.isel(lat=yi,lon=xi,month=moni))\n",
    "pi1=np.asarray(ds.Vmax.isel(lat=yi,lon=xi,month=moni))\n",
    "pmin1=np.asarray(ds.Pmin.isel(lat=yi,lon=xi,month=moni))\n",
    "lnb1=np.asarray(ds.LNB.isel(lat=yi,lon=xi,month=moni))\n",
    "flag1=np.asarray(ds.PI_flag.isel(lat=yi,lon=xi,month=moni))"
   ]
  },
  {
   "cell_type": "code",
   "execution_count": 7,
   "metadata": {},
   "outputs": [
    {
     "data": {
      "image/png": "[encoded data removed]",
      "text/plain": [
       "<Figure size 432x288 with 1 Axes>"
      ]
     },
     "metadata": {},
     "output_type": "display_data"
    }
   ],
   "source": [
    "plt.figure()\n",
    "plt.plot(t1,p1)\n",
    "plt.gca().invert_yaxis()\n",
    "#plt.yscale('log')\n",
    "plt.ylabel(ds.p.standard_name)\n",
    "plt.xlabel('Temperature (C)')\n",
    "plt.grid()\n",
    "plt.show()"
   ]
  },
  {
   "cell_type": "code",
   "execution_count": 8,
   "metadata": {},
   "outputs": [],
   "source": [
    "# initial parcel characteristics\n",
    "TP=t1[0]+273.15;\n",
    "PP=np.min([p1[0],1000.0])\n",
    "ES0=6.112*np.exp(17.67*t1[0]/(243.5+t1[0]))\n",
    "RP=0.622*ES0/(PP-ES0)\n",
    "# convert to the proper units for CAPE module\n",
    "t1k=t1+273.15\n",
    "q1gg=q1*0.001"
   ]
  },
  {
   "cell_type": "code",
   "execution_count": 9,
   "metadata": {},
   "outputs": [],
   "source": [
    "from pi import cape\n",
    "(CAPED,TOB,LNB,IFLAG)=cape(TP,RP,PP,t1k,q1gg,p1,ascent_flag=0,ptop=50)"
   ]
  },
  {
   "cell_type": "code",
   "execution_count": 10,
   "metadata": {},
   "outputs": [],
   "source": [
    "from pi import pi\n",
    "(VMAX,PMIN,IFL,TO,LNB)=pi(sst1,msl1,p1,t1,q1,CKCD=0.9,ascent_flag=0,diss_flag=1,V_reduc=0.8)"
   ]
  },
  {
   "cell_type": "markdown",
   "metadata": {},
   "source": [
    "### PI module run time"
   ]
  },
  {
   "cell_type": "code",
   "execution_count": 11,
   "metadata": {},
   "outputs": [
    {
     "name": "stdout",
     "output_type": "stream",
     "text": [
      "Average Module Runtime = 0.036919655799865725\n"
     ]
    },
    {
     "data": {
      "image/png": "[encoded data removed]",
      "text/plain": [
       "<Figure size 432x288 with 1 Axes>"
      ]
     },
     "metadata": {},
     "output_type": "display_data"
    }
   ],
   "source": [
    "from pi import pi\n",
    "import time\n",
    "nruns=100\n",
    "# time the loop\n",
    "time_check=np.zeros((nruns,))\n",
    "for i in range(nruns):\n",
    "    start = time.time()\n",
    "    check=pi(sst1,msl1,p1,t1,q1)\n",
    "    end = time.time()\n",
    "    time_check[i,]=end - start\n",
    "    \n",
    "print('Average Module Runtime = '+str(np.mean(time_check)))\n",
    "plt.figure()\n",
    "plt.hist(time_check)\n",
    "plt.ylabel('Number of runs (out of 100)')\n",
    "plt.xlabel('Time elapsed (s)')\n",
    "plt.show()"
   ]
  },
  {
   "cell_type": "markdown",
   "metadata": {},
   "source": [
    "### Compare output with MATLAB calculations"
   ]
  },
  {
   "cell_type": "code",
   "execution_count": 12,
   "metadata": {},
   "outputs": [
    {
     "name": "stdout",
     "output_type": "stream",
     "text": [
      "-------PYTHON PI-------\n",
      "VMAX_check = 89.10354403991217\n",
      "PMIN_check = 854.9480568077835\n",
      "To_check = 190.30303733579575\n",
      "LNB_check = 70.0\n",
      "IFL_check = 1\n",
      "-------MATLAB PI-------\n",
      "VMAX = 89.1035728682102\n",
      "PMIN = 854.9475661357983\n",
      "To = 190.30303733579575\n",
      "LNB = 70.0\n",
      "Flag = 1.0\n"
     ]
    }
   ],
   "source": [
    "print('-------PYTHON PI-------')\n",
    "print('VMAX_check = '+str(VMAX))\n",
    "print('PMIN_check = '+str(PMIN))\n",
    "print('To_check = '+str(TO))\n",
    "print('LNB_check = '+str(LNB))\n",
    "print('IFL_check = '+str(IFL))\n",
    "\n",
    "print('-------MATLAB PI-------')\n",
    "print('VMAX = '+str(pi1))\n",
    "print('PMIN = '+str(pmin1))\n",
    "print('To = '+str(to1))\n",
    "print('LNB = '+str(lnb1))\n",
    "print('Flag = '+str(flag1))"
   ]
  },
  {
   "cell_type": "markdown",
   "metadata": {},
   "source": [
    "The Python code appears to be reproducing the MATLAB CAPE and PI outputs. A full quality control is performed in the verify_pi.ipynb notebook."
   ]
  },
  {
   "cell_type": "code",
   "execution_count": null,
   "metadata": {},
   "outputs": [],
   "source": []
  }
 ],
 "metadata": {
  "kernelspec": {
   "display_name": "Python 3",
   "language": "python",
   "name": "python3"
  },
  "language_info": {
   "codemirror_mode": {
    "name": "ipython",
    "version": 3
   },
   "file_extension": ".py",
   "mimetype": "text/x-python",
   "name": "python",
   "nbconvert_exporter": "python",
   "pygments_lexer": "ipython3",
   "version": "3.6.4"
  }
 },
 "nbformat": 4,
 "nbformat_minor": 2
}
