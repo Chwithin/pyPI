{
 "cells": [
  {
   "cell_type": "markdown",
   "metadata": {},
   "source": [
    "# Goal"
   ]
  },
  {
   "cell_type": "markdown",
   "metadata": {},
   "source": [
    "This notebook imports the pyPI code and test data, computes the PI module (pi.py) output, and then performs a few standard analyses on PI data."
   ]
  },
  {
   "cell_type": "code",
   "execution_count": 1,
   "metadata": {},
   "outputs": [],
   "source": [
    "import numpy as np\n",
    "import xarray as xr\n",
    "import matplotlib\n",
    "import matplotlib.pyplot as plt\n",
    "import time\n",
    "# load PI calculation module\n",
    "from pi import pi"
   ]
  },
  {
   "cell_type": "code",
   "execution_count": 2,
   "metadata": {},
   "outputs": [],
   "source": [
    "# change default figure font settings\n",
    "font = {'family' : 'sans-serif',\n",
    "        'weight' : 1,\n",
    "        'size'   : 16}\n",
    "\n",
    "matplotlib.rc('font', **font)"
   ]
  },
  {
   "cell_type": "markdown",
   "metadata": {},
   "source": [
    "# Load Data"
   ]
  },
  {
   "cell_type": "code",
   "execution_count": 3,
   "metadata": {},
   "outputs": [],
   "source": [
    "# data location\n",
    "_FN='./data/test_data.nc'\n",
    "# load netcdf file\n",
    "ds = xr.open_dataset(_FN)"
   ]
  },
  {
   "cell_type": "markdown",
   "metadata": {},
   "source": [
    "# Calculate PI and Variables"
   ]
  },
  {
   "cell_type": "markdown",
   "metadata": {},
   "source": [
    "PI is given by the Bister and Emanuel (2002) algorithm (see pi.py):"
   ]
  },
  {
   "cell_type": "code",
   "execution_count": 4,
   "metadata": {},
   "outputs": [],
   "source": [
    "# create a function to calculate PI over the sample dataset using xarray\n",
    "def run_sample_dataset(fn, dim='p'):\n",
    "    \"\"\" This is just a flex... \"\"\"\n",
    "    \n",
    "    # open the test data file\n",
    "    ds = xr.open_dataset(_FN)\n",
    "    # calculate PI over the whole data set using the xarray universal function\n",
    "    result = xr.apply_ufunc(\n",
    "        pi,\n",
    "        ds['sst'], ds['msl'], ds['p'], ds['t'], ds['q'],\n",
    "        kwargs=dict(CKCD=0.9, ascent_flag=0, diss_flag=1, miss_handle=1),\n",
    "        input_core_dims=[\n",
    "            [], [], ['p', ], ['p', ], ['p', ],\n",
    "        ],\n",
    "        output_core_dims=[\n",
    "            [], [], [], [], []\n",
    "        ],\n",
    "        vectorize=True\n",
    "    )\n",
    "\n",
    "    vmax, pmin, ifl, t0, lnb = result\n",
    "\n",
    "    # return the output from pi.py as an xarray data structure\n",
    "    return xr.Dataset({\n",
    "        'vmax': vmax, \n",
    "        'pmin': pmin,\n",
    "        'ifl': ifl,\n",
    "        't0': t0,\n",
    "        'lnb': lnb\n",
    "    })"
   ]
  },
  {
   "cell_type": "code",
   "execution_count": 5,
   "metadata": {},
   "outputs": [],
   "source": [
    "# calculate PI over the sample test data\n",
    "pi_ds=run_sample_dataset(_FN)"
   ]
  },
  {
   "cell_type": "markdown",
   "metadata": {},
   "source": [
    "## Main development regions (MDRs)"
   ]
  },
  {
   "attachments": {},
   "cell_type": "markdown",
   "metadata": {},
   "source": [
    "We define the TC main development regions following Gilford et al. (2017):\n",
    "\n",
    "<img src=\"figures/mdrs.png\" alt=\"Drawing\" style=\"width: 400px;\"/>"
   ]
  },
  {
   "cell_type": "code",
   "execution_count": 20,
   "metadata": {},
   "outputs": [
    {
     "data": {
      "text/plain": [
       "array([[  8.75,  31.25],\n",
       "       [266.25, 308.75]])"
      ]
     },
     "execution_count": 20,
     "metadata": {},
     "output_type": "execute_result"
    }
   ],
   "source": [
    "# bounds_na=np.asarray([8.75, 31.25, 266.25, 308.75]).reshape(2,2)\n",
    "# bounds_na"
   ]
  },
  {
   "cell_type": "code",
   "execution_count": 21,
   "metadata": {},
   "outputs": [],
   "source": [
    "# bounds = xr.Dataset({\n",
    "#             'na': (\n",
    "#                 (\"lat\", \"lon\"),\n",
    "#                 np.asarray([8.75, 31.25, 266.25, 308.75]).reshape(2,2),\n",
    "#                 ),\n",
    "#             'enp': (\n",
    "#                 (\"lat\", \"lon\"),\n",
    "#                 np.asarray([8.75, 31.25, 266.25, 308.75]).reshape(2,2),\n",
    "#                 ),\n",
    "#             'wnp': (\n",
    "#                 (\"lat\", \"lon\"),\n",
    "#                 np.asarray([8.75, 31.25, 266.25, 308.75]).reshape(2,2),\n",
    "#                 ),\n",
    "#             'ni': (\n",
    "#                 (\"lat\", \"lon\"),\n",
    "#                 np.asarray([8.75, 31.25, 266.25, 308.75]).reshape(2,2),\n",
    "#                 ),\n",
    "#             'sh': (\n",
    "#                 (\"lat\", \"lon\"),\n",
    "#                 np.asarray([8.75, 31.25, 266.25, 308.75]).reshape(2,2),\n",
    "#                 ),\n",
    "#         })"
   ]
  },
  {
   "cell_type": "code",
   "execution_count": 28,
   "metadata": {},
   "outputs": [
    {
     "data": {
      "text/html": [
       "<pre>&lt;xarray.DataArray &#x27;na&#x27; (lat: 2, lon: 2)&gt;\n",
       "array([[  8.75,  31.25],\n",
       "       [266.25, 308.75]])\n",
       "Dimensions without coordinates: lat, lon</pre>"
      ],
      "text/plain": [
       "<xarray.DataArray 'na' (lat: 2, lon: 2)>\n",
       "array([[  8.75,  31.25],\n",
       "       [266.25, 308.75]])\n",
       "Dimensions without coordinates: lat, lon"
      ]
     },
     "execution_count": 28,
     "metadata": {},
     "output_type": "execute_result"
    }
   ],
   "source": [
    "bounds.na"
   ]
  },
  {
   "cell_type": "markdown",
   "metadata": {},
   "source": [
    "## Compute diagnostics"
   ]
  },
  {
   "cell_type": "markdown",
   "metadata": {},
   "source": [
    "PI may also be computed directly via:\n",
    "\n",
    "EQN.\n",
    "\n",
    "Where..."
   ]
  },
  {
   "cell_type": "markdown",
   "metadata": {},
   "source": [
    "### Efficiency"
   ]
  },
  {
   "cell_type": "markdown",
   "metadata": {},
   "source": [
    "The efficiency...\n",
    "Typical..."
   ]
  },
  {
   "cell_type": "code",
   "execution_count": null,
   "metadata": {},
   "outputs": [],
   "source": []
  },
  {
   "cell_type": "markdown",
   "metadata": {},
   "source": [
    "### Log PI/Efficiency/Disequilibrium"
   ]
  },
  {
   "cell_type": "markdown",
   "metadata": {},
   "source": [
    "We decompose each term in this equation by..."
   ]
  },
  {
   "cell_type": "code",
   "execution_count": null,
   "metadata": {},
   "outputs": [],
   "source": []
  },
  {
   "cell_type": "markdown",
   "metadata": {},
   "source": [
    "# Perform and Plot Analyses"
   ]
  },
  {
   "cell_type": "markdown",
   "metadata": {},
   "source": [
    "## Annual Climatology"
   ]
  },
  {
   "cell_type": "markdown",
   "metadata": {},
   "source": [
    "### PI ($V_{max}$)"
   ]
  },
  {
   "cell_type": "markdown",
   "metadata": {},
   "source": [
    "### Sea Surface Temperature ($T_{s}$)"
   ]
  },
  {
   "cell_type": "markdown",
   "metadata": {},
   "source": [
    "### Outflow Temperature ($T_0$)"
   ]
  },
  {
   "cell_type": "markdown",
   "metadata": {},
   "source": [
    "### Outflow Temperature Level (OTL)"
   ]
  },
  {
   "cell_type": "markdown",
   "metadata": {},
   "source": [
    "### TC Efficiency ($\\frac{T_{s} - T_{0}}{T_{0}}$)"
   ]
  },
  {
   "cell_type": "markdown",
   "metadata": {},
   "source": [
    "### ln[Disequlibrium] ($h^* - h$)"
   ]
  },
  {
   "cell_type": "markdown",
   "metadata": {},
   "source": [
    "## Seasonal Climatology by Basin"
   ]
  },
  {
   "cell_type": "code",
   "execution_count": null,
   "metadata": {},
   "outputs": [],
   "source": []
  }
 ],
 "metadata": {
  "kernelspec": {
   "display_name": "Python 3",
   "language": "python",
   "name": "python3"
  },
  "language_info": {
   "codemirror_mode": {
    "name": "ipython",
    "version": 3
   },
   "file_extension": ".py",
   "mimetype": "text/x-python",
   "name": "python",
   "nbconvert_exporter": "python",
   "pygments_lexer": "ipython3",
   "version": "3.7.6"
  }
 },
 "nbformat": 4,
 "nbformat_minor": 4
}
